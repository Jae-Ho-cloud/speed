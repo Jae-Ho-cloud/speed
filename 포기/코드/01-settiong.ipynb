{
 "cells": [
  {
   "cell_type": "code",
   "execution_count": null,
   "metadata": {},
   "outputs": [],
   "source": [
    "%run nb_init.py"
   ]
  },
  {
   "cell_type": "markdown",
   "metadata": {},
   "source": [
    "### 데이터 불러온뒤 합쳐서 겹치는 정보까지 확인"
   ]
  },
  {
   "cell_type": "code",
   "execution_count": null,
   "metadata": {},
   "outputs": [],
   "source": [
    "import pandas as pd\n",
    "\n",
    "# 데이터 불러오기\n",
    "df_Customers = pd.read_csv('df_Customers.csv')\n",
    "df_OrderItems = pd.read_csv('df_OrderItems.csv')\n",
    "df_Orders = pd.read_csv('df_Orders.csv')\n",
    "df_Payments = pd.read_csv('df_Payments.csv')\n",
    "df_Products = pd.read_csv('df_Products.csv')\n",
    "\n",
    "test_Customers = pd.read_csv('test_Customers.csv')\n",
    "test_OrderItems = pd.read_csv('test_OrderItems.csv')\n",
    "test_Orders = pd.read_csv('test_Orders.csv')\n",
    "test_Payments = pd.read_csv('test_Payments.csv')\n",
    "test_Products = pd.read_csv('test_Products.csv')\n",
    "\n",
    "# 데이터프레임 합치기\n",
    "combined_Customers = pd.concat([df_Customers, test_Customers], ignore_index=True)\n",
    "combined_OrderItems = pd.concat([df_OrderItems, test_OrderItems], ignore_index=True)\n",
    "combined_Orders = pd.concat([df_Orders, test_Orders], ignore_index=True)\n",
    "combined_Payments = pd.concat([df_Payments, test_Payments], ignore_index=True)\n",
    "combined_Products = pd.concat([df_Products, test_Products], ignore_index=True)\n",
    "\n",
    "# 합쳐진 데이터프레임 저장 (선택)\n",
    "combined_Customers.to_csv('Customers.csv', index=False)\n",
    "combined_OrderItems.to_csv('OrderItems.csv', index=False)\n",
    "combined_Orders.to_csv('Orders.csv', index=False)\n",
    "combined_Payments.to_csv('Payments.csv', index=False)\n",
    "combined_Products.to_csv('Products.csv', index=False)\n"
   ]
  },
  {
   "cell_type": "code",
   "execution_count": null,
   "metadata": {},
   "outputs": [],
   "source": [
    "Customers = pd.read_csv('Customers.csv')\n",
    "OrderItems = pd.read_csv('OrderItems.csv')\n",
    "Orders = pd.read_csv('Orders.csv')\n",
    "# Payments = pd.read_csv('Payments.csv')\n",
    "Products = pd.read_csv('Products.csv')"
   ]
  },
  {
   "cell_type": "code",
   "execution_count": null,
   "metadata": {},
   "outputs": [],
   "source": [
    "Customers.info()"
   ]
  },
  {
   "cell_type": "code",
   "execution_count": null,
   "metadata": {},
   "outputs": [],
   "source": [
    "import pandas as pd\n",
    "\n",
    "# CSV 파일 불러오기 (예시 파일 경로로 교체 필요)\n",
    "\n",
    "Orders = pd.read_csv('Orders.csv')\n",
    "OrderItems = pd.read_csv('OrderItems.csv')\n",
    "Customers = pd.read_csv('Customers.csv')\n",
    "# Payments = pd.read_csv('Payments.csv')\n",
    "Products = pd.read_csv('Products.csv')\n",
    "\n",
    "# 중복 확인 함수\n",
    "def check_duplicates(df, column_name, df_name):\n",
    "    duplicate_rows = df[df.duplicated(subset=column_name, keep=False)]\n",
    "    if duplicate_rows.empty:\n",
    "        print(f\"{df_name} 데이터프레임에서 중복된 {column_name}가 없습니다.\")\n",
    "    else:\n",
    "        print(f\"{df_name} 데이터프레임에서 중복된 {column_name}가 있습니다:\")\n",
    "        print(duplicate_rows)\n",
    "\n",
    "# 각 데이터프레임에서 중복 확인\n",
    "check_duplicates(Orders, 'order_id', 'Orders')\n",
    "check_duplicates(OrderItems, 'order_id', 'OrderItems')\n",
    "check_duplicates(Customers, 'customer_id', 'Customers')\n",
    "# check_duplicates(Payments, 'order_id', 'Payments')\n",
    "check_duplicates(Products, 'product_id', 'Products')\n"
   ]
  },
  {
   "cell_type": "markdown",
   "metadata": {},
   "source": [
    "### Oredrs 파일 전처리 최종 Orders03"
   ]
  },
  {
   "cell_type": "code",
   "execution_count": null,
   "metadata": {},
   "outputs": [],
   "source": [
    "#Orders 에서 배달완료된 데이터 들만 남기기\n",
    "\n",
    "import pandas as pd\n",
    "\n",
    "# CSV 파일 불러오기\n",
    "Orders = pd.read_csv('Orders.csv')\n",
    "\n",
    "# order_status가 'delivered'인 행만 남기기\n",
    "Orders01 = Orders[Orders['order_status'] == 'delivered']\n",
    "\n",
    "# 결과 출력 또는 파일로 저장 (선택사항)\n",
    "#delivered_orders.to_csv('delivered_Orders.csv', index=False)\n",
    "\n",
    "print(Orders01)\n"
   ]
  },
  {
   "cell_type": "code",
   "execution_count": null,
   "metadata": {},
   "outputs": [],
   "source": [
    "#예상도착시간 order_estimated_delivery_date 열 제거\n",
    "\n",
    "\n",
    "# order_estimated_delivery_date 열 제거\n",
    "Orders02 = Orders01.drop(columns=['order_estimated_delivery_date'])\n",
    "\n",
    "# 결과 출력 또는 파일로 저장 (선택사항)\n",
    "# Orders02.to_csv('Orders_without_estimated_delivery_date.csv', index=False)\n",
    "\n",
    "Orders02.info()\n"
   ]
  },
  {
   "cell_type": "code",
   "execution_count": null,
   "metadata": {},
   "outputs": [],
   "source": [
    "# NaN 값이 있는 행 제거\n",
    "Orders03 = Orders02.dropna()\n",
    "\n",
    "# 결과 출력 또는 파일로 저장 (선택사항)\n",
    "# cleaned_orders02.to_csv('orders02_cleaned.csv', index=False)\n",
    "Orders03.info()\n"
   ]
  },
  {
   "cell_type": "code",
   "execution_count": null,
   "metadata": {},
   "outputs": [],
   "source": [
    "#배송시간 계산 열 추가 코드\n",
    "#타임스탬프 열 datetime 타입으로 변환\n",
    "#order_delivered_timestamp - order_purchase_timestamp\n",
    "#도착시간 에서 주문시간 빼서 계산\n",
    "\n",
    "# 타임스탬프 열을 datetime 타입으로 변환\n",
    "Orders03['order_purchase_timestamp'] = pd.to_datetime(Orders03['order_purchase_timestamp'])\n",
    "Orders03['order_delivered_timestamp'] = pd.to_datetime(Orders03['order_delivered_timestamp'])\n",
    "\n",
    "# 배송 시간 계산 (차이 계산)\n",
    "Orders03['delivery_time'] = \\\n",
    "    Orders03['order_delivered_timestamp'] - Orders03['order_purchase_timestamp']\n",
    "\n",
    "# 결과를 파일로 저장 (선택사항)\n",
    "Orders03.to_csv('Orders03.csv', index=False)\n",
    "\n",
    "Orders03.info()\n"
   ]
  },
  {
   "cell_type": "markdown",
   "metadata": {},
   "source": [
    "### Oreders_items 전처리 최종 OrderItems01"
   ]
  },
  {
   "cell_type": "code",
   "execution_count": null,
   "metadata": {},
   "outputs": [],
   "source": [
    "OrderItems.info()"
   ]
  },
  {
   "cell_type": "code",
   "execution_count": null,
   "metadata": {},
   "outputs": [],
   "source": [
    "# Orders_Itemas 에서 필요한열 남기고 나머지 삭제\n",
    "# order_id, product_id, shipping_charges만 남기고 나머지 열을 제거\n",
    "# 필요한 열만 선택하여 새로운 데이터프레임 생성\n",
    "OrderItems01 = OrderItems[['order_id', 'product_id', 'shipping_charges']]\n",
    "\n",
    "# 결과 출력 또는 파일로 저장 (선택사항)\n",
    "OrderItems01.to_csv('OrderItems01.csv', index=False)\n",
    "\n",
    "OrderItems01.info()\n"
   ]
  },
  {
   "cell_type": "markdown",
   "metadata": {},
   "source": [
    "### Custormes 파일 전처리  최종 Customer01"
   ]
  },
  {
   "cell_type": "code",
   "execution_count": null,
   "metadata": {},
   "outputs": [],
   "source": [
    "Customers.info()"
   ]
  },
  {
   "cell_type": "code",
   "execution_count": null,
   "metadata": {},
   "outputs": [],
   "source": [
    "#도시, customer_id 빼고\n",
    "\n",
    "#customer-state, customer_zip_code_prefix 열을 지우고 \n",
    "# null값이 있는 데이터 행도 지움\n",
    "# 불필요한 열 제거\n",
    "Customers_filtered = Customers.drop(columns=['customer_state', 'customer_zip_code_prefix'])\n",
    "\n",
    "# Null 값이 있는 행 제거\n",
    "Customers01 = Customers_filtered.dropna()\n",
    "\n",
    "# 결과 출력 또는 파일로 저장 (선택사항)\n",
    "Customers01.to_csv('Customers01.csv', index=False)\n",
    "\n",
    "Customers01.info()\n"
   ]
  },
  {
   "cell_type": "markdown",
   "metadata": {},
   "source": [
    "### Product 전처리 딱히 할거 없음"
   ]
  },
  {
   "cell_type": "code",
   "execution_count": null,
   "metadata": {},
   "outputs": [],
   "source": [
    "Products.info()"
   ]
  },
  {
   "cell_type": "code",
   "execution_count": null,
   "metadata": {},
   "outputs": [],
   "source": [
    "# 중복된 product_id 행 제거\n",
    "Products_df01 = Products.drop_duplicates(subset='product_id')\n",
    "\n",
    "# null 값이 포함된 행 제거\n",
    "Products_df01 = Products_df01.dropna()\n",
    "\n",
    "\n",
    "# 제거 후 데이터프레임 확인\n",
    "Products_df01.info()\n"
   ]
  },
  {
   "cell_type": "markdown",
   "metadata": {},
   "source": [
    "### 데이터 합치기\n",
    "\n",
    "Orders03과 OrderItems01 데이터프레임을 order_id를 기준으로 병합 merged_df01"
   ]
  },
  {
   "cell_type": "code",
   "execution_count": null,
   "metadata": {},
   "outputs": [],
   "source": [
    "Orders03.info()\n"
   ]
  },
  {
   "cell_type": "code",
   "execution_count": null,
   "metadata": {},
   "outputs": [],
   "source": [
    "OrderItems01.info()"
   ]
  },
  {
   "cell_type": "code",
   "execution_count": null,
   "metadata": {},
   "outputs": [],
   "source": [
    "# Orders03과 OrderItems01 을 합침. order_id 기준으로\n",
    "# Orders03과 OrderItems01 데이터프레임을 order_id를 기준으로 병합\n",
    "merged_df01 = pd.merge(Orders03, OrderItems01, on='order_id', how='left')\n",
    "\n",
    "# 결과 출력 또는 파일로 저장 (선택사항)\n",
    "merged_df01.to_csv('merged_Orders_OrderItems.csv', index=False)\n",
    "\n",
    "print(merged_df01)\n"
   ]
  },
  {
   "cell_type": "code",
   "execution_count": null,
   "metadata": {},
   "outputs": [],
   "source": [
    "merged_df01.info()"
   ]
  },
  {
   "cell_type": "markdown",
   "metadata": {},
   "source": [
    "merged_df01 과 customer 정보 customer-id 기준으로 합침"
   ]
  },
  {
   "cell_type": "code",
   "execution_count": null,
   "metadata": {},
   "outputs": [],
   "source": [
    "Customers.info()"
   ]
  },
  {
   "cell_type": "code",
   "execution_count": null,
   "metadata": {},
   "outputs": [],
   "source": [
    "import pandas as pd\n",
    "\n",
    "# 이전에 병합된 데이터프레임 (Orders03 + OrderItems01)\n",
    "# 예를 들어, 이전 병합된 데이터프레임이 merged_df라면\n",
    "# Customers 데이터프레임 불러오기\n",
    "Customers01 = pd.read_csv('Customers01.csv')\n",
    "\n",
    "# merged_df와 Customers를 customer_id를 기준으로 병합\n",
    "merged_df02 = pd.merge(merged_df01, Customers01, on='customer_id', how='inner')\n",
    "\n",
    "# 결과 출력 또는 파일로 저장 (선택사항)\n",
    "merged_df02.to_csv('merged_df02.csv', index=False)\n",
    "\n",
    "merged_df02\n"
   ]
  },
  {
   "cell_type": "code",
   "execution_count": null,
   "metadata": {},
   "outputs": [],
   "source": [
    "merged_df02.info()"
   ]
  },
  {
   "cell_type": "code",
   "execution_count": null,
   "metadata": {},
   "outputs": [],
   "source": [
    "\n",
    "# merged_df02과 Products를 product_id를 기준으로 병합\n",
    "merged_df03 = pd.merge(merged_df02, Products_df01, on='product_id', how='right')\n",
    "\n",
    "# 결과 출력 또는 파일로 저장 (선택사항)\n",
    "merged_df03.to_csv('merged_df03.csv', index=False)\n",
    "\n",
    "merged_df03.info()\n"
   ]
  },
  {
   "cell_type": "code",
   "execution_count": null,
   "metadata": {},
   "outputs": [],
   "source": [
    "merged_df03.info()"
   ]
  },
  {
   "cell_type": "code",
   "execution_count": null,
   "metadata": {},
   "outputs": [],
   "source": [
    "# 중복 항목 제거\n",
    "merged_df04 = merged_df03.drop_duplicates()\n",
    "\n",
    "# Null 값이 있는 행 제거\n",
    "final_df = merged_df04.dropna()\n",
    "\n",
    "# 중복이 제거된 데이터프레임을 CSV 파일로 저장\n",
    "# final_df.to_csv('final_df.csv', index=False)\n",
    "\n",
    "final_df.info()\n"
   ]
  },
  {
   "cell_type": "code",
   "execution_count": null,
   "metadata": {},
   "outputs": [],
   "source": [
    "# 중복된 order_id 찾기\n",
    "x = final_df[final_df.duplicated(subset=['order_id'], keep=False)]\n",
    "\n",
    "# 중복된 데이터 출력\n",
    "x.info()\n"
   ]
  },
  {
   "cell_type": "markdown",
   "metadata": {},
   "source": [
    "### final_df 에서 전처리"
   ]
  },
  {
   "cell_type": "code",
   "execution_count": 120,
   "metadata": {},
   "outputs": [
    {
     "data": {
      "text/html": [
       "<div>\n",
       "<style scoped>\n",
       "    .dataframe tbody tr th:only-of-type {\n",
       "        vertical-align: middle;\n",
       "    }\n",
       "\n",
       "    .dataframe tbody tr th {\n",
       "        vertical-align: top;\n",
       "    }\n",
       "\n",
       "    .dataframe thead th {\n",
       "        text-align: right;\n",
       "    }\n",
       "</style>\n",
       "<table border=\"1\" class=\"dataframe\">\n",
       "  <thead>\n",
       "    <tr style=\"text-align: right;\">\n",
       "      <th></th>\n",
       "      <th>order_id</th>\n",
       "      <th>customer_id</th>\n",
       "      <th>order_status</th>\n",
       "      <th>order_purchase_timestamp</th>\n",
       "      <th>order_approved_at</th>\n",
       "      <th>order_delivered_timestamp</th>\n",
       "      <th>delivery_time</th>\n",
       "      <th>product_id</th>\n",
       "      <th>shipping_charges</th>\n",
       "      <th>customer_city</th>\n",
       "      <th>product_category_name</th>\n",
       "      <th>product_weight_g</th>\n",
       "      <th>product_length_cm</th>\n",
       "      <th>product_height_cm</th>\n",
       "      <th>product_width_cm</th>\n",
       "    </tr>\n",
       "  </thead>\n",
       "  <tbody>\n",
       "    <tr>\n",
       "      <th>0</th>\n",
       "      <td>Axfy13Hk4PIk</td>\n",
       "      <td>hCT0x9JiGXBQ</td>\n",
       "      <td>delivered</td>\n",
       "      <td>2017-10-22 18:57:54</td>\n",
       "      <td>2017-10-22 19:14:13</td>\n",
       "      <td>2017-10-26 22:19:52</td>\n",
       "      <td>4 days 03:21:58</td>\n",
       "      <td>90K0C1fIyQUf</td>\n",
       "      <td>84.65</td>\n",
       "      <td>varzea paulista</td>\n",
       "      <td>toys</td>\n",
       "      <td>491.0</td>\n",
       "      <td>19.0</td>\n",
       "      <td>12.0</td>\n",
       "      <td>16.0</td>\n",
       "    </tr>\n",
       "    <tr>\n",
       "      <th>1</th>\n",
       "      <td>yerr73FjzQBV</td>\n",
       "      <td>TuHMZO7ZH7mZ</td>\n",
       "      <td>delivered</td>\n",
       "      <td>2017-10-23 17:07:40</td>\n",
       "      <td>2017-10-25 02:28:33</td>\n",
       "      <td>2017-11-03 19:03:52</td>\n",
       "      <td>11 days 01:56:12</td>\n",
       "      <td>90K0C1fIyQUf</td>\n",
       "      <td>48.35</td>\n",
       "      <td>rio de janeiro</td>\n",
       "      <td>toys</td>\n",
       "      <td>491.0</td>\n",
       "      <td>19.0</td>\n",
       "      <td>12.0</td>\n",
       "      <td>16.0</td>\n",
       "    </tr>\n",
       "    <tr>\n",
       "      <th>2</th>\n",
       "      <td>HAMsBcLy9HjK</td>\n",
       "      <td>UNYaurBkHxer</td>\n",
       "      <td>delivered</td>\n",
       "      <td>2017-10-29 11:01:06</td>\n",
       "      <td>2017-10-29 11:45:36</td>\n",
       "      <td>2017-11-03 20:27:46</td>\n",
       "      <td>5 days 09:26:40</td>\n",
       "      <td>90K0C1fIyQUf</td>\n",
       "      <td>84.65</td>\n",
       "      <td>aracatuba</td>\n",
       "      <td>toys</td>\n",
       "      <td>491.0</td>\n",
       "      <td>19.0</td>\n",
       "      <td>12.0</td>\n",
       "      <td>16.0</td>\n",
       "    </tr>\n",
       "    <tr>\n",
       "      <th>3</th>\n",
       "      <td>GxnIw0TWGbsl</td>\n",
       "      <td>olvLB3sqg4YE</td>\n",
       "      <td>delivered</td>\n",
       "      <td>2017-10-23 16:26:56</td>\n",
       "      <td>2017-10-23 16:46:25</td>\n",
       "      <td>2017-10-26 20:47:57</td>\n",
       "      <td>3 days 04:21:01</td>\n",
       "      <td>90K0C1fIyQUf</td>\n",
       "      <td>84.65</td>\n",
       "      <td>araraquara</td>\n",
       "      <td>toys</td>\n",
       "      <td>491.0</td>\n",
       "      <td>19.0</td>\n",
       "      <td>12.0</td>\n",
       "      <td>16.0</td>\n",
       "    </tr>\n",
       "    <tr>\n",
       "      <th>4</th>\n",
       "      <td>xmaBKTCSLmlD</td>\n",
       "      <td>HvaudPydAHuQ</td>\n",
       "      <td>delivered</td>\n",
       "      <td>2017-10-26 16:52:36</td>\n",
       "      <td>2017-10-26 17:32:23</td>\n",
       "      <td>2017-11-06 19:46:41</td>\n",
       "      <td>11 days 02:54:05</td>\n",
       "      <td>90K0C1fIyQUf</td>\n",
       "      <td>45.50</td>\n",
       "      <td>cuiaba</td>\n",
       "      <td>toys</td>\n",
       "      <td>491.0</td>\n",
       "      <td>19.0</td>\n",
       "      <td>12.0</td>\n",
       "      <td>16.0</td>\n",
       "    </tr>\n",
       "  </tbody>\n",
       "</table>\n",
       "</div>"
      ],
      "text/plain": [
       "       order_id   customer_id order_status order_purchase_timestamp  \\\n",
       "0  Axfy13Hk4PIk  hCT0x9JiGXBQ    delivered      2017-10-22 18:57:54   \n",
       "1  yerr73FjzQBV  TuHMZO7ZH7mZ    delivered      2017-10-23 17:07:40   \n",
       "2  HAMsBcLy9HjK  UNYaurBkHxer    delivered      2017-10-29 11:01:06   \n",
       "3  GxnIw0TWGbsl  olvLB3sqg4YE    delivered      2017-10-23 16:26:56   \n",
       "4  xmaBKTCSLmlD  HvaudPydAHuQ    delivered      2017-10-26 16:52:36   \n",
       "\n",
       "     order_approved_at order_delivered_timestamp    delivery_time  \\\n",
       "0  2017-10-22 19:14:13       2017-10-26 22:19:52  4 days 03:21:58   \n",
       "1  2017-10-25 02:28:33       2017-11-03 19:03:52 11 days 01:56:12   \n",
       "2  2017-10-29 11:45:36       2017-11-03 20:27:46  5 days 09:26:40   \n",
       "3  2017-10-23 16:46:25       2017-10-26 20:47:57  3 days 04:21:01   \n",
       "4  2017-10-26 17:32:23       2017-11-06 19:46:41 11 days 02:54:05   \n",
       "\n",
       "     product_id  shipping_charges    customer_city product_category_name  \\\n",
       "0  90K0C1fIyQUf             84.65  varzea paulista                  toys   \n",
       "1  90K0C1fIyQUf             48.35   rio de janeiro                  toys   \n",
       "2  90K0C1fIyQUf             84.65        aracatuba                  toys   \n",
       "3  90K0C1fIyQUf             84.65       araraquara                  toys   \n",
       "4  90K0C1fIyQUf             45.50           cuiaba                  toys   \n",
       "\n",
       "   product_weight_g  product_length_cm  product_height_cm  product_width_cm  \n",
       "0             491.0               19.0               12.0              16.0  \n",
       "1             491.0               19.0               12.0              16.0  \n",
       "2             491.0               19.0               12.0              16.0  \n",
       "3             491.0               19.0               12.0              16.0  \n",
       "4             491.0               19.0               12.0              16.0  "
      ]
     },
     "execution_count": 120,
     "metadata": {},
     "output_type": "execute_result"
    }
   ],
   "source": [
    "final_df.head()"
   ]
  },
  {
   "cell_type": "code",
   "execution_count": 121,
   "metadata": {},
   "outputs": [
    {
     "data": {
      "text/html": [
       "<div>\n",
       "<style scoped>\n",
       "    .dataframe tbody tr th:only-of-type {\n",
       "        vertical-align: middle;\n",
       "    }\n",
       "\n",
       "    .dataframe tbody tr th {\n",
       "        vertical-align: top;\n",
       "    }\n",
       "\n",
       "    .dataframe thead th {\n",
       "        text-align: right;\n",
       "    }\n",
       "</style>\n",
       "<table border=\"1\" class=\"dataframe\">\n",
       "  <thead>\n",
       "    <tr style=\"text-align: right;\">\n",
       "      <th></th>\n",
       "      <th>order_id</th>\n",
       "      <th>customer_id</th>\n",
       "      <th>delivery_time</th>\n",
       "      <th>product_id</th>\n",
       "      <th>shipping_charges</th>\n",
       "      <th>customer_city</th>\n",
       "      <th>product_category_name</th>\n",
       "      <th>product_weight_g</th>\n",
       "      <th>product_length_cm</th>\n",
       "      <th>product_height_cm</th>\n",
       "      <th>product_width_cm</th>\n",
       "    </tr>\n",
       "  </thead>\n",
       "  <tbody>\n",
       "    <tr>\n",
       "      <th>0</th>\n",
       "      <td>Axfy13Hk4PIk</td>\n",
       "      <td>hCT0x9JiGXBQ</td>\n",
       "      <td>4 days 03:21:58</td>\n",
       "      <td>90K0C1fIyQUf</td>\n",
       "      <td>84.65</td>\n",
       "      <td>varzea paulista</td>\n",
       "      <td>toys</td>\n",
       "      <td>491.0</td>\n",
       "      <td>19.0</td>\n",
       "      <td>12.0</td>\n",
       "      <td>16.0</td>\n",
       "    </tr>\n",
       "    <tr>\n",
       "      <th>1</th>\n",
       "      <td>yerr73FjzQBV</td>\n",
       "      <td>TuHMZO7ZH7mZ</td>\n",
       "      <td>11 days 01:56:12</td>\n",
       "      <td>90K0C1fIyQUf</td>\n",
       "      <td>48.35</td>\n",
       "      <td>rio de janeiro</td>\n",
       "      <td>toys</td>\n",
       "      <td>491.0</td>\n",
       "      <td>19.0</td>\n",
       "      <td>12.0</td>\n",
       "      <td>16.0</td>\n",
       "    </tr>\n",
       "    <tr>\n",
       "      <th>2</th>\n",
       "      <td>HAMsBcLy9HjK</td>\n",
       "      <td>UNYaurBkHxer</td>\n",
       "      <td>5 days 09:26:40</td>\n",
       "      <td>90K0C1fIyQUf</td>\n",
       "      <td>84.65</td>\n",
       "      <td>aracatuba</td>\n",
       "      <td>toys</td>\n",
       "      <td>491.0</td>\n",
       "      <td>19.0</td>\n",
       "      <td>12.0</td>\n",
       "      <td>16.0</td>\n",
       "    </tr>\n",
       "    <tr>\n",
       "      <th>3</th>\n",
       "      <td>GxnIw0TWGbsl</td>\n",
       "      <td>olvLB3sqg4YE</td>\n",
       "      <td>3 days 04:21:01</td>\n",
       "      <td>90K0C1fIyQUf</td>\n",
       "      <td>84.65</td>\n",
       "      <td>araraquara</td>\n",
       "      <td>toys</td>\n",
       "      <td>491.0</td>\n",
       "      <td>19.0</td>\n",
       "      <td>12.0</td>\n",
       "      <td>16.0</td>\n",
       "    </tr>\n",
       "    <tr>\n",
       "      <th>4</th>\n",
       "      <td>xmaBKTCSLmlD</td>\n",
       "      <td>HvaudPydAHuQ</td>\n",
       "      <td>11 days 02:54:05</td>\n",
       "      <td>90K0C1fIyQUf</td>\n",
       "      <td>45.50</td>\n",
       "      <td>cuiaba</td>\n",
       "      <td>toys</td>\n",
       "      <td>491.0</td>\n",
       "      <td>19.0</td>\n",
       "      <td>12.0</td>\n",
       "      <td>16.0</td>\n",
       "    </tr>\n",
       "  </tbody>\n",
       "</table>\n",
       "</div>"
      ],
      "text/plain": [
       "       order_id   customer_id    delivery_time    product_id  \\\n",
       "0  Axfy13Hk4PIk  hCT0x9JiGXBQ  4 days 03:21:58  90K0C1fIyQUf   \n",
       "1  yerr73FjzQBV  TuHMZO7ZH7mZ 11 days 01:56:12  90K0C1fIyQUf   \n",
       "2  HAMsBcLy9HjK  UNYaurBkHxer  5 days 09:26:40  90K0C1fIyQUf   \n",
       "3  GxnIw0TWGbsl  olvLB3sqg4YE  3 days 04:21:01  90K0C1fIyQUf   \n",
       "4  xmaBKTCSLmlD  HvaudPydAHuQ 11 days 02:54:05  90K0C1fIyQUf   \n",
       "\n",
       "   shipping_charges    customer_city product_category_name  product_weight_g  \\\n",
       "0             84.65  varzea paulista                  toys             491.0   \n",
       "1             48.35   rio de janeiro                  toys             491.0   \n",
       "2             84.65        aracatuba                  toys             491.0   \n",
       "3             84.65       araraquara                  toys             491.0   \n",
       "4             45.50           cuiaba                  toys             491.0   \n",
       "\n",
       "   product_length_cm  product_height_cm  product_width_cm  \n",
       "0               19.0               12.0              16.0  \n",
       "1               19.0               12.0              16.0  \n",
       "2               19.0               12.0              16.0  \n",
       "3               19.0               12.0              16.0  \n",
       "4               19.0               12.0              16.0  "
      ]
     },
     "execution_count": 121,
     "metadata": {},
     "output_type": "execute_result"
    }
   ],
   "source": [
    "# 열 삭제\n",
    "final_df01 = final_df.drop(columns=['order_status', 'order_purchase_timestamp', 'order_approved_at', 'order_delivered_timestamp'])\n",
    "\n",
    "# 결과 확인\n",
    "final_df01.head()\n"
   ]
  },
  {
   "cell_type": "markdown",
   "metadata": {},
   "source": [
    "### 시간대 일 시 분 초 에서 시 단위로 int형 변경"
   ]
  },
  {
   "cell_type": "code",
   "execution_count": 122,
   "metadata": {},
   "outputs": [
    {
     "name": "stdout",
     "output_type": "stream",
     "text": [
      "<class 'pandas.core.frame.DataFrame'>\n",
      "Index: 87109 entries, 0 to 87702\n",
      "Data columns (total 11 columns):\n",
      " #   Column                 Non-Null Count  Dtype  \n",
      "---  ------                 --------------  -----  \n",
      " 0   order_id               87109 non-null  object \n",
      " 1   customer_id            87109 non-null  object \n",
      " 2   product_id             87109 non-null  object \n",
      " 3   shipping_charges       87109 non-null  float64\n",
      " 4   customer_city          87109 non-null  object \n",
      " 5   product_category_name  87109 non-null  object \n",
      " 6   product_weight_g       87109 non-null  float64\n",
      " 7   product_length_cm      87109 non-null  float64\n",
      " 8   product_height_cm      87109 non-null  float64\n",
      " 9   product_width_cm       87109 non-null  float64\n",
      " 10  delivery_time_hours    87109 non-null  int64  \n",
      "dtypes: float64(5), int64(1), object(5)\n",
      "memory usage: 8.0+ MB\n"
     ]
    }
   ],
   "source": [
    "# 'delivery_time'을 datetime.timedelta로 변환\n",
    "final_df01['delivery_time'] = pd.to_timedelta(final_df01['delivery_time'])\n",
    "\n",
    "# 'delivery_time'을 시간 단위로 변환하여 정수형으로 저장\n",
    "final_df01['delivery_time_hours'] = final_df01['delivery_time'].dt.total_seconds() / 3600\n",
    "final_df01['delivery_time_hours'] = final_df01['delivery_time_hours'].astype(int)\n",
    "\n",
    "final_df02 = final_df01.drop(columns=['delivery_time'])\n",
    "\n",
    "# 결과 확인\n",
    "final_df02.info()\n"
   ]
  },
  {
   "cell_type": "code",
   "execution_count": 123,
   "metadata": {},
   "outputs": [
    {
     "data": {
      "text/html": [
       "<div>\n",
       "<style scoped>\n",
       "    .dataframe tbody tr th:only-of-type {\n",
       "        vertical-align: middle;\n",
       "    }\n",
       "\n",
       "    .dataframe tbody tr th {\n",
       "        vertical-align: top;\n",
       "    }\n",
       "\n",
       "    .dataframe thead th {\n",
       "        text-align: right;\n",
       "    }\n",
       "</style>\n",
       "<table border=\"1\" class=\"dataframe\">\n",
       "  <thead>\n",
       "    <tr style=\"text-align: right;\">\n",
       "      <th></th>\n",
       "      <th>order_id</th>\n",
       "      <th>customer_id</th>\n",
       "      <th>product_id</th>\n",
       "      <th>shipping_charges</th>\n",
       "      <th>customer_city</th>\n",
       "      <th>product_category_name</th>\n",
       "      <th>product_weight_g</th>\n",
       "      <th>product_length_cm</th>\n",
       "      <th>product_height_cm</th>\n",
       "      <th>product_width_cm</th>\n",
       "      <th>delivery_time_hours</th>\n",
       "    </tr>\n",
       "  </thead>\n",
       "  <tbody>\n",
       "    <tr>\n",
       "      <th>0</th>\n",
       "      <td>Axfy13Hk4PIk</td>\n",
       "      <td>hCT0x9JiGXBQ</td>\n",
       "      <td>90K0C1fIyQUf</td>\n",
       "      <td>84.65</td>\n",
       "      <td>varzea paulista</td>\n",
       "      <td>toys</td>\n",
       "      <td>491.0</td>\n",
       "      <td>19.0</td>\n",
       "      <td>12.0</td>\n",
       "      <td>16.0</td>\n",
       "      <td>99</td>\n",
       "    </tr>\n",
       "    <tr>\n",
       "      <th>1</th>\n",
       "      <td>yerr73FjzQBV</td>\n",
       "      <td>TuHMZO7ZH7mZ</td>\n",
       "      <td>90K0C1fIyQUf</td>\n",
       "      <td>48.35</td>\n",
       "      <td>rio de janeiro</td>\n",
       "      <td>toys</td>\n",
       "      <td>491.0</td>\n",
       "      <td>19.0</td>\n",
       "      <td>12.0</td>\n",
       "      <td>16.0</td>\n",
       "      <td>265</td>\n",
       "    </tr>\n",
       "    <tr>\n",
       "      <th>2</th>\n",
       "      <td>HAMsBcLy9HjK</td>\n",
       "      <td>UNYaurBkHxer</td>\n",
       "      <td>90K0C1fIyQUf</td>\n",
       "      <td>84.65</td>\n",
       "      <td>aracatuba</td>\n",
       "      <td>toys</td>\n",
       "      <td>491.0</td>\n",
       "      <td>19.0</td>\n",
       "      <td>12.0</td>\n",
       "      <td>16.0</td>\n",
       "      <td>129</td>\n",
       "    </tr>\n",
       "    <tr>\n",
       "      <th>3</th>\n",
       "      <td>GxnIw0TWGbsl</td>\n",
       "      <td>olvLB3sqg4YE</td>\n",
       "      <td>90K0C1fIyQUf</td>\n",
       "      <td>84.65</td>\n",
       "      <td>araraquara</td>\n",
       "      <td>toys</td>\n",
       "      <td>491.0</td>\n",
       "      <td>19.0</td>\n",
       "      <td>12.0</td>\n",
       "      <td>16.0</td>\n",
       "      <td>76</td>\n",
       "    </tr>\n",
       "    <tr>\n",
       "      <th>4</th>\n",
       "      <td>xmaBKTCSLmlD</td>\n",
       "      <td>HvaudPydAHuQ</td>\n",
       "      <td>90K0C1fIyQUf</td>\n",
       "      <td>45.50</td>\n",
       "      <td>cuiaba</td>\n",
       "      <td>toys</td>\n",
       "      <td>491.0</td>\n",
       "      <td>19.0</td>\n",
       "      <td>12.0</td>\n",
       "      <td>16.0</td>\n",
       "      <td>266</td>\n",
       "    </tr>\n",
       "  </tbody>\n",
       "</table>\n",
       "</div>"
      ],
      "text/plain": [
       "       order_id   customer_id    product_id  shipping_charges  \\\n",
       "0  Axfy13Hk4PIk  hCT0x9JiGXBQ  90K0C1fIyQUf             84.65   \n",
       "1  yerr73FjzQBV  TuHMZO7ZH7mZ  90K0C1fIyQUf             48.35   \n",
       "2  HAMsBcLy9HjK  UNYaurBkHxer  90K0C1fIyQUf             84.65   \n",
       "3  GxnIw0TWGbsl  olvLB3sqg4YE  90K0C1fIyQUf             84.65   \n",
       "4  xmaBKTCSLmlD  HvaudPydAHuQ  90K0C1fIyQUf             45.50   \n",
       "\n",
       "     customer_city product_category_name  product_weight_g  product_length_cm  \\\n",
       "0  varzea paulista                  toys             491.0               19.0   \n",
       "1   rio de janeiro                  toys             491.0               19.0   \n",
       "2        aracatuba                  toys             491.0               19.0   \n",
       "3       araraquara                  toys             491.0               19.0   \n",
       "4           cuiaba                  toys             491.0               19.0   \n",
       "\n",
       "   product_height_cm  product_width_cm  delivery_time_hours  \n",
       "0               12.0              16.0                   99  \n",
       "1               12.0              16.0                  265  \n",
       "2               12.0              16.0                  129  \n",
       "3               12.0              16.0                   76  \n",
       "4               12.0              16.0                  266  "
      ]
     },
     "execution_count": 123,
     "metadata": {},
     "output_type": "execute_result"
    }
   ],
   "source": [
    "final_df02.head()\n"
   ]
  },
  {
   "cell_type": "markdown",
   "metadata": {},
   "source": [
    "### 카테고리 40개 에서 5개로 변경"
   ]
  },
  {
   "cell_type": "code",
   "execution_count": 124,
   "metadata": {},
   "outputs": [
    {
     "name": "stdout",
     "output_type": "stream",
     "text": [
      "           order_id   customer_id    product_id  shipping_charges  \\\n",
      "0      Axfy13Hk4PIk  hCT0x9JiGXBQ  90K0C1fIyQUf             84.65   \n",
      "1      yerr73FjzQBV  TuHMZO7ZH7mZ  90K0C1fIyQUf             48.35   \n",
      "2      HAMsBcLy9HjK  UNYaurBkHxer  90K0C1fIyQUf             84.65   \n",
      "3      GxnIw0TWGbsl  olvLB3sqg4YE  90K0C1fIyQUf             84.65   \n",
      "4      xmaBKTCSLmlD  HvaudPydAHuQ  90K0C1fIyQUf             45.50   \n",
      "...             ...           ...           ...               ...   \n",
      "87698  COAEBb9wujeO  BqRGM472ahYC  USSzekoHkA25             50.67   \n",
      "87699  UcyEqhz0z6is  31lUTcScwAaf  SZRgDV7xa2U8             25.18   \n",
      "87700  UxArq2NbNHVg  cuARwGvabbtw  w2OtdEjwNHBr             41.41   \n",
      "87701  zlcLnXGgAabl  bfJtzkBGksdY  W8vikEizUggJ            188.65   \n",
      "87702  Xo1fqyXOC6CR  rhevVNXYJnEs  5pbzE0rDy61l             70.06   \n",
      "\n",
      "         customer_city product_category_name  product_weight_g  \\\n",
      "0      varzea paulista                  toys             491.0   \n",
      "1       rio de janeiro                  toys             491.0   \n",
      "2            aracatuba                  toys             491.0   \n",
      "3           araraquara                  toys             491.0   \n",
      "4               cuiaba                  toys             491.0   \n",
      "...                ...                   ...               ...   \n",
      "87698        sao paulo                  toys            1352.0   \n",
      "87699   rio de janeiro                  toys            1360.0   \n",
      "87700      carapicuiba                  toys             833.0   \n",
      "87701           amparo                  toys             700.0   \n",
      "87702         brasilia                  toys            1750.0   \n",
      "\n",
      "       product_length_cm  product_height_cm  product_width_cm  \\\n",
      "0                   19.0               12.0              16.0   \n",
      "1                   19.0               12.0              16.0   \n",
      "2                   19.0               12.0              16.0   \n",
      "3                   19.0               12.0              16.0   \n",
      "4                   19.0               12.0              16.0   \n",
      "...                  ...                ...               ...   \n",
      "87698               37.0                9.0              30.0   \n",
      "87699               28.0               21.0              24.0   \n",
      "87700               17.0               12.0              16.0   \n",
      "87701               21.0               14.0              14.0   \n",
      "87702               32.0               18.0              24.0   \n",
      "\n",
      "       delivery_time_hours       category  \n",
      "0                       99  Miscellaneous  \n",
      "1                      265  Miscellaneous  \n",
      "2                      129  Miscellaneous  \n",
      "3                       76  Miscellaneous  \n",
      "4                      266  Miscellaneous  \n",
      "...                    ...            ...  \n",
      "87698                  168  Miscellaneous  \n",
      "87699                  345  Miscellaneous  \n",
      "87700                  193  Miscellaneous  \n",
      "87701                  261  Miscellaneous  \n",
      "87702                  113  Miscellaneous  \n",
      "\n",
      "[87109 rows x 12 columns]\n"
     ]
    }
   ],
   "source": [
    "# 카테고리 매핑\n",
    "category_mapping = {\n",
    "    'electronics': 'Electronics & Appliances',\n",
    "    'audio': 'Electronics & Appliances',\n",
    "    'computers_accessories': 'Electronics & Appliances',\n",
    "    'computers': 'Electronics & Appliances',\n",
    "    'telephony': 'Electronics & Appliances',\n",
    "    'fixed_telephony': 'Electronics & Appliances',\n",
    "    'tablets_printing_image': 'Electronics & Appliances',\n",
    "    'cine_photo': 'Electronics & Appliances',\n",
    "    'home_appliances': 'Electronics & Appliances',\n",
    "    'home_appliances_2': 'Electronics & Appliances',\n",
    "    'small_appliances': 'Electronics & Appliances',\n",
    "    'small_appliances_home_oven_and_coffee': 'Electronics & Appliances',\n",
    "    'air_conditioning': 'Electronics & Appliances',\n",
    "    'fashion_shoes': 'Fashion, Beauty & Personal Care',\n",
    "    'fashion_bags_accessories': 'Fashion, Beauty & Personal Care',\n",
    "    'fashion_male_clothing': 'Fashion, Beauty & Personal Care',\n",
    "    'fashion_female_clothing': 'Fashion, Beauty & Personal Care',\n",
    "    'fashion_underwear_beach': 'Fashion, Beauty & Personal Care',\n",
    "    'fashion_sport': 'Fashion, Beauty & Personal Care',\n",
    "    'fashion_childrens_clothes': 'Fashion, Beauty & Personal Care',\n",
    "    'watches_gifts': 'Fashion, Beauty & Personal Care',\n",
    "    'luggage_accessories': 'Fashion, Beauty & Personal Care',\n",
    "    'health_beauty': 'Fashion, Beauty & Personal Care',\n",
    "    'perfumery': 'Fashion, Beauty & Personal Care',\n",
    "    'diapers_and_hygiene': 'Fashion, Beauty & Personal Care',\n",
    "    'furniture_decor': 'Home & Furniture',\n",
    "    'furniture_living_room': 'Home & Furniture',\n",
    "    'furniture_bedroom': 'Home & Furniture',\n",
    "    'furniture_mattress_and_upholstery': 'Home & Furniture',\n",
    "    'home_comfort': 'Home & Furniture',\n",
    "    'home_confort_2': 'Home & Furniture',\n",
    "    'office_furniture': 'Home & Furniture',\n",
    "    'bed_bath_table': 'Home & Furniture',\n",
    "    'housewares': 'Home & Furniture',\n",
    "    'kitchen_dining_laundry_garden_furniture': 'Home & Furniture',\n",
    "    'la_cuisine': 'Home & Furniture',\n",
    "    'construction_tools_construction': 'Construction & Industry',\n",
    "    'construction_tools_garden': 'Construction & Industry',\n",
    "    'construction_tools_safety': 'Construction & Industry',\n",
    "    'construction_tools_lights': 'Construction & Industry',\n",
    "    'costruction_tools_tools': 'Construction & Industry',\n",
    "    'costruction_tools_garden': 'Construction & Industry',\n",
    "    'home_construction': 'Construction & Industry',\n",
    "    'industry_commerce_and_business': 'Construction & Industry',\n",
    "    'agro_industry_and_commerce': 'Construction & Industry',\n",
    "    'signaling_and_security': 'Construction & Industry',\n",
    "    'security_and_services': 'Construction & Industry',\n",
    "    'toys': 'Miscellaneous',\n",
    "    'sports_leisure': 'Miscellaneous',\n",
    "    'cool_stuff': 'Miscellaneous',\n",
    "    'consoles_games': 'Miscellaneous',\n",
    "    'musical_instruments': 'Miscellaneous',\n",
    "    'party_supplies': 'Miscellaneous',\n",
    "    'food': 'Miscellaneous',\n",
    "    'food_drink': 'Miscellaneous',\n",
    "    'drinks': 'Miscellaneous',\n",
    "    'pet_shop': 'Miscellaneous',\n",
    "    'flowers': 'Miscellaneous',\n",
    "    'books_technical': 'Miscellaneous',\n",
    "    'books_general_interest': 'Miscellaneous',\n",
    "    'books_imported': 'Miscellaneous',\n",
    "    'dvds_blu_ray': 'Miscellaneous',\n",
    "    'music': 'Miscellaneous',\n",
    "    'art': 'Miscellaneous',\n",
    "    'christmas_supplies': 'Miscellaneous',\n",
    "    'market_place': 'Miscellaneous'\n",
    "}\n",
    "\n",
    "# 카테고리 이름 변환\n",
    "final_df02['category'] = final_df02['product_category_name'].map(category_mapping)\n",
    "\n",
    "print(final_df02)\n"
   ]
  },
  {
   "cell_type": "code",
   "execution_count": null,
   "metadata": {},
   "outputs": [],
   "source": []
  },
  {
   "cell_type": "markdown",
   "metadata": {},
   "source": [
    "### 열 product_category_name\t지우고  카테고리로 변경, null 값 지우기"
   ]
  },
  {
   "cell_type": "code",
   "execution_count": null,
   "metadata": {},
   "outputs": [],
   "source": [
    "# null 값이 포함된 행 제거\n",
    "final_df02 = final_df.drop(columns=['product_category_name'])\n",
    "final_df02 = Products_df01.dropna()"
   ]
  },
  {
   "cell_type": "code",
   "execution_count": null,
   "metadata": {},
   "outputs": [],
   "source": [
    "final_df02.info()"
   ]
  },
  {
   "cell_type": "code",
   "execution_count": null,
   "metadata": {},
   "outputs": [],
   "source": [
    "final_df03 = final_df02.dropna()"
   ]
  },
  {
   "cell_type": "code",
   "execution_count": null,
   "metadata": {},
   "outputs": [],
   "source": [
    "final_df03.info()"
   ]
  },
  {
   "cell_type": "markdown",
   "metadata": {},
   "source": []
  },
  {
   "cell_type": "code",
   "execution_count": null,
   "metadata": {},
   "outputs": [],
   "source": [
    "unique_categories = final_df03['category'].unique()\n",
    "\n",
    "# 결과 출력\n",
    "print(unique_categories)\n",
    "\n"
   ]
  },
  {
   "cell_type": "code",
   "execution_count": null,
   "metadata": {},
   "outputs": [],
   "source": []
  }
 ],
 "metadata": {
  "kernelspec": {
   "display_name": "ml",
   "language": "python",
   "name": "python3"
  },
  "language_info": {
   "codemirror_mode": {
    "name": "ipython",
    "version": 3
   },
   "file_extension": ".py",
   "mimetype": "text/x-python",
   "name": "python",
   "nbconvert_exporter": "python",
   "pygments_lexer": "ipython3",
   "version": "3.12.5"
  }
 },
 "nbformat": 4,
 "nbformat_minor": 2
}
