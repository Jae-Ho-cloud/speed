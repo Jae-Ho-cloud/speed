{
 "cells": [
  {
   "cell_type": "markdown",
   "metadata": {},
   "source": [
    "# 초고속 배송 레이스: 주문에서 문 앞까지의 시간 추적\n",
    " "
   ]
  },
  {
   "cell_type": "markdown",
   "metadata": {},
   "source": [
    "- **기간:** 2024-09-05 ~ 2024-09-11 (총 7일)\n",
    "- **정의:**\n",
    "  - 이번 프로젝트는 kaggle의 E-commerce 주문&공급사슬 데이터셋을 이용하여 주문부터 배송까지 걸리는 시간을 분석 후 예측을목표로 한다. \n",
    "- **목적:**\n",
    "  - 고객 주문부터 배송 완료까지의 시간 분석 \n",
    "  - 분석한 시간을 토대로 배송시간을 최소화 하기 위한 시스템 개선\n",
    "- **범위:**\n",
    "  - 주문 상태 중 배송 완료된 데이터들만을 선정해서 분석 진행\n",
    "\n",
    "- **결론 및 향후 과제:**\n",
    "  - \n"
   ]
  },
  {
   "cell_type": "markdown",
   "metadata": {},
   "source": [
    "## [과업 목록]"
   ]
  },
  {
   "cell_type": "markdown",
   "metadata": {},
   "source": [
    "**[ 1일차 ]**\n",
    "\n",
    "- **프로젝트 주제 선정**\n",
    "  -  공공데이터 및 통계청 등 프로젝트를 위한 데이터 탐색 \n",
    "  -  프로젝트를 위한 Kaggle Dataset 확정 및 주제 선정 \n",
    "\n",
    "- **데이터 수집을 위한 URL 탐색**\n",
    "  - Kaggle\n",
    "    - 데이터 확인 \n",
    "  \n"
   ]
  },
  {
   "cell_type": "markdown",
   "metadata": {},
   "source": [
    "**[ 2일차 ]**\n",
    "\n",
    "- **수집 데이터 정리**\n",
    "  - 데이터 정리\n",
    "    - 데이터 제공 URL 확인\n",
    "    - 4개의 테이블 데이터 통합\n",
    "    - 불필요한 열 제거 및 결측값 처리 등 클리닝 작업 실시\n",
    "    \n",
    "\n"
   ]
  },
  {
   "cell_type": "markdown",
   "metadata": {},
   "source": [
    "**[ 3일차 ~ 5일차 ]**\n",
    "\n",
    "- **회귀 모델 선택을 위한 적합성 실험**\n",
    "  - EDA 작업\n",
    "  - 모델 적합성 실험\n",
    "  "
   ]
  },
  {
   "cell_type": "markdown",
   "metadata": {},
   "source": [
    "**[ 6일차 ]**\n",
    "\n",
    "- **모델 선정 및 실험**\n",
    "  - 모델 적합성 실험 비교 후 모델 선정\n",
    "  - Baseline 작업\n",
    "  - modeling 작업 및 성능 실험\n",
    "  - 발표자료 제작 및 발표 준비\n",
    "\n",
    "- **프로젝트 마무리**\n",
    "  - 프로젝트 자료 정리 \n",
    "  - 발표자료 제작 및 발표 준비"
   ]
  },
  {
   "cell_type": "markdown",
   "metadata": {},
   "source": [
    "**[ 7일차 ]**\n",
    "\n",
    "- **프로젝트 발표**\n",
    "  - 프로젝트 발표 최종점검\n",
    "  - 프로젝트 발표 및 피드백 정리\n"
   ]
  }
 ],
 "metadata": {
  "kernelspec": {
   "display_name": "pybasic",
   "language": "python",
   "name": "python3"
  },
  "language_info": {
   "codemirror_mode": {
    "name": "ipython",
    "version": 3
   },
   "file_extension": ".py",
   "mimetype": "text/x-python",
   "name": "python",
   "nbconvert_exporter": "python",
   "pygments_lexer": "ipython3",
   "version": "3.12.4"
  }
 },
 "nbformat": 4,
 "nbformat_minor": 2
}
