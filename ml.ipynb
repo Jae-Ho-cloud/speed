{
 "cells": [
  {
   "cell_type": "code",
   "execution_count": 1,
   "metadata": {},
   "outputs": [
    {
     "name": "stderr",
     "output_type": "stream",
     "text": [
      "C:\\Users\\m\\4차4차\\_init_.py:26: SyntaxWarning: invalid escape sequence '\\W'\n",
      "  font_path = \"c:\\Windows\\Fonts\\malgun.ttf\"\n"
     ]
    },
    {
     "name": "stdout",
     "output_type": "stream",
     "text": [
      "pandas: pd 2.2.2\n",
      "numpy : np 2.1.0\n",
      "matplotlib : mpl 3.9.2\n",
      "seaborn : sns 0.13.2\n",
      "sklearn : skl 1.5.1\n"
     ]
    }
   ],
   "source": [
    "%run _init_.py"
   ]
  },
  {
   "cell_type": "code",
   "execution_count": 3,
   "metadata": {},
   "outputs": [],
   "source": [
    "df = pd.read_csv('df.csv')"
   ]
  },
  {
   "cell_type": "code",
   "execution_count": 4,
   "metadata": {},
   "outputs": [
    {
     "name": "stdout",
     "output_type": "stream",
     "text": [
      "CSV 파일로 저장 완료!\n"
     ]
    }
   ],
   "source": [
    "import pandas as pd\n",
    "\n",
    "# 필요한 열 리스트\n",
    "selected_columns = [\n",
    "    'OverallQual', 'GrLivArea', 'GarageCars', 'GarageArea', 'TotalBsmtSF', \n",
    "    '1stFlrSF', 'FullBath', 'TotRmsAbvGrd', 'YearBuilt', 'YearRemodAdd', \n",
    "    'MasVnrArea', 'Fireplaces', 'GarageYrBlt', 'HeatingQC', 'GarageType', \n",
    "    'FireplaceQu', 'GarageFinish', 'KitchenQual', 'BsmtQual', 'ExterQual', \n",
    "    'SalePrice'\n",
    "]\n",
    "\n",
    "# 데이터프레임에서 선택된 열만 추출\n",
    "top20 = df[selected_columns]\n",
    "\n",
    "# 새로운 데이터프레임을 CSV 파일로 저장\n",
    "top20.to_csv('top20.csv', index=False)\n",
    "\n",
    "print(\"CSV 파일로 저장 완료!\")\n"
   ]
  },
  {
   "cell_type": "markdown",
   "metadata": {},
   "source": [
    "### 랜덤 포레스트"
   ]
  },
  {
   "cell_type": "code",
   "execution_count": 5,
   "metadata": {},
   "outputs": [
    {
     "name": "stdout",
     "output_type": "stream",
     "text": [
      "RMSE: 28034.559413997587\n"
     ]
    },
    {
     "name": "stderr",
     "output_type": "stream",
     "text": [
      "c:\\Users\\m\\miniconda3\\envs\\ml\\Lib\\site-packages\\sklearn\\metrics\\_regression.py:492: FutureWarning: 'squared' is deprecated in version 1.4 and will be removed in 1.6. To calculate the root mean squared error, use the function'root_mean_squared_error'.\n",
      "  warnings.warn(\n"
     ]
    }
   ],
   "source": [
    "from sklearn.model_selection import train_test_split\n",
    "from sklearn.ensemble import RandomForestRegressor\n",
    "from sklearn.preprocessing import StandardScaler\n",
    "from sklearn.metrics import mean_squared_error\n",
    "\n",
    "# 데이터 준비\n",
    "X = top20.drop(columns=['SalePrice'])\n",
    "y = top20['SalePrice']\n",
    "\n",
    "# 데이터 분리 (80% 훈련, 20% 테스트)\n",
    "X_train, X_test, y_train, y_test = train_test_split(X, y, test_size=0.2, random_state=42)\n",
    "\n",
    "# 스케일러 적용 (StandardScaler)\n",
    "scaler = StandardScaler()\n",
    "\n",
    "# 훈련 데이터 스케일링\n",
    "X_train_scaled = scaler.fit_transform(X_train)\n",
    "\n",
    "# 테스트 데이터 스케일링 (훈련 데이터의 스케일을 기준으로)\n",
    "X_test_scaled = scaler.transform(X_test)\n",
    "\n",
    "# 모델 학습\n",
    "model = RandomForestRegressor(n_estimators=100, random_state=42)\n",
    "model.fit(X_train_scaled, y_train)\n",
    "\n",
    "# 예측\n",
    "y_pred = model.predict(X_test_scaled)\n",
    "\n",
    "# 성능 평가\n",
    "rmse = mean_squared_error(y_test, y_pred, squared=False)\n",
    "print(f\"RMSE: {rmse}\")\n"
   ]
  }
 ],
 "metadata": {
  "kernelspec": {
   "display_name": "ml",
   "language": "python",
   "name": "python3"
  },
  "language_info": {
   "codemirror_mode": {
    "name": "ipython",
    "version": 3
   },
   "file_extension": ".py",
   "mimetype": "text/x-python",
   "name": "python",
   "nbconvert_exporter": "python",
   "pygments_lexer": "ipython3",
   "version": "3.12.5"
  }
 },
 "nbformat": 4,
 "nbformat_minor": 2
}
